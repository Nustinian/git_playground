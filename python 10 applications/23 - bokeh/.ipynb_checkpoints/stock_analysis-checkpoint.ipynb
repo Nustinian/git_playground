{
 "cells": [
  {
   "cell_type": "code",
   "execution_count": 15,
   "metadata": {},
   "outputs": [
    {
     "data": {
      "text/plain": [
       "[]"
      ]
     },
     "execution_count": 15,
     "metadata": {},
     "output_type": "execute_result"
    }
   ],
   "source": [
    "from pandas_datareader import data\n",
    "import datetime\n",
    "from bokeh.models.annotations import Title\n",
    "from bokeh.plotting import figure, show, output_file\n",
    "from bokeh.embed import components\n",
    "from bokeh.resources import CDN\n",
    "\n",
    "start = datetime.datetime(2019, 8, 16)\n",
    "end = datetime.datetime(2020, 1, 16)\n",
    "df = data.DataReader(name = \"AAPL\", data_source = \"yahoo\", start = start, end = end )\n",
    "\n",
    "def increase_or_decrease(close, open):\n",
    "    if close > open:\n",
    "        value = \"Increase\"\n",
    "    elif close < open:\n",
    "        value = \"Decrease\"\n",
    "    else:\n",
    "        value = \"Equal\"\n",
    "    return value\n",
    "\n",
    "df[\"Status\"] = [increase_or_decrease(close, open) for close, open in zip(df.Close, df.Open)]\n",
    "df[\"Middle\"] = (df.Open + df.Close) / 2\n",
    "df[\"Height\"] = abs(df.Close - df.Open)\n",
    "\n",
    "p = figure(x_axis_type = 'datetime', width = 1000, height = 300, sizing_mode = 'scale_width')\n",
    "title = Title()\n",
    "title.text = \"Candlestick Chart\"\n",
    "p.title = title\n",
    "p.grid.grid_line_alpha = 0.3\n",
    "\n",
    "hours_12 = 12 * 60 * 60 * 1000\n",
    "\n",
    "p.segment(df.index, df.Low, df.index, df.High, color = \"Black\")\n",
    "\n",
    "p.rect(df.index[df.Status == \"Increase\"], df.Middle[df.Status == \"Increase\"], hours_12, \n",
    "       df.Height[df.Status == \"Increase\"], fill_color = \"#27AF39\", line_color = \"black\")\n",
    "p.rect(df.index[df.Status == \"Decrease\"], df.Middle[df.Status == \"Decrease\"], hours_12,\n",
    "       df.Height[df.Status == \"Decrease\"], fill_color = \"#DB1D1D\", line_color = \"black\")\n",
    "\n",
    "script1, div1 = components(p)\n",
    "cdn_js = CDN.js_files\n",
    "cdn_css = CDN.css_files\n",
    "\n",
    "#output_file(\"CS.html\")\n",
    "#show(p)"
   ]
  },
  {
   "cell_type": "code",
   "execution_count": 6,
   "metadata": {},
   "outputs": [
    {
     "name": "stdout",
     "output_type": "stream",
     "text": [
      "\n",
      "<div class=\"bk-root\" id=\"468990c2-db57-425d-bfc5-515266391650\" data-root-id=\"1846\"></div>\n"
     ]
    }
   ],
   "source": []
  }
 ],
 "metadata": {
  "kernelspec": {
   "display_name": "Python 3",
   "language": "python",
   "name": "python3"
  },
  "language_info": {
   "codemirror_mode": {
    "name": "ipython",
    "version": 3
   },
   "file_extension": ".py",
   "mimetype": "text/x-python",
   "name": "python",
   "nbconvert_exporter": "python",
   "pygments_lexer": "ipython3",
   "version": "3.7.4"
  }
 },
 "nbformat": 4,
 "nbformat_minor": 2
}
